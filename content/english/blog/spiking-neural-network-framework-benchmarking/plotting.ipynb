{
 "cells": [
  {
   "cell_type": "code",
   "execution_count": null,
   "metadata": {},
   "outputs": [],
   "source": [
    "import pandas as pd\n",
    "\n",
    "df = pd.read_csv('data.csv')\n",
    "n_steps = 500\n",
    "batch_size = 96"
   ]
  },
  {
   "cell_type": "code",
   "execution_count": null,
   "metadata": {},
   "outputs": [],
   "source": [
    "df['framework'] = df['framework'].str.replace('<br>', ' ')\n",
    "df['framework'] = df['framework'].str.replace('SpikingJelly CuPy v0.0.0.0.15', 'SpikingJelly v0.0.15')"
   ]
  },
  {
   "cell_type": "code",
   "execution_count": null,
   "metadata": {},
   "outputs": [],
   "source": [
    "import plotly.express as px\n",
    "import plotly.graph_objects as go\n",
    "\n",
    "frameworks = df['framework'].unique()\n",
    "\n",
    "def get_figure(df, rounding=2, title=\"\"):\n",
    "    totals = df[\"time [s]\"][df[\"pass\"] == \"forward\"].to_numpy() + df[\"time [s]\"][df[\"pass\"] == \"backward\"].to_numpy()\n",
    "    fig = px.bar(\n",
    "        df,\n",
    "        y=\"framework\",\n",
    "        x=\"time [s]\",\n",
    "        color=\"pass\",\n",
    "        log_x=True,\n",
    "        text_auto=f'.{rounding}f',\n",
    "        orientation='h',\n",
    "    ).add_trace(go.Scatter(\n",
    "        y=frameworks, x=totals*1.05, \n",
    "        mode='text',\n",
    "        text=totals.round(rounding),\n",
    "        textposition='middle right',\n",
    "        showlegend=False\n",
    "    ))\n",
    "    fig.data[0]['textposition'] = 'inside'\n",
    "    fig.data[1]['textposition'] = 'inside'\n",
    "\n",
    "    fig.update_layout(\n",
    "        title=title,\n",
    "        yaxis={'categoryorder':'total descending'},\n",
    "        legend=dict(orientation=\"h\", yanchor=\"bottom\", y=1.01, xanchor=\"right\", x=1),\n",
    "        margin=dict(l=10, r=10, t=80, b=10),\n",
    "        yaxis_title=\"\",\n",
    "    )\n",
    "    # increase size of facet titles\n",
    "    fig.update_annotations(font_size=14)\n",
    "    return fig\n"
   ]
  },
  {
   "cell_type": "code",
   "execution_count": null,
   "metadata": {},
   "outputs": [],
   "source": [
    "df8k = df[df['neurons'] == 8192]\n",
    "\n",
    "fig = get_figure(df8k, title=\"Latency for 8k neurons, lower is better\")\n",
    "\n",
    "fig.write_json(\"framework-benchmarking-8k.json\")\n",
    "# fig.write_image(\"framework-benchmarking-8k.png\", width=1024)\n",
    "# fig.write_image(\"framework-benchmarking-8k-header.png\", width=1600)\n",
    "fig.show()"
   ]
  },
  {
   "cell_type": "code",
   "execution_count": null,
   "metadata": {},
   "outputs": [],
   "source": [
    "df4k = df[df['neurons'] == 4096]\n",
    "\n",
    "fig = get_figure(df4k, title=\"Latency for 4k neurons, lower is better\")\n",
    "\n",
    "fig.write_json(\"framework-benchmarking-4k.json\")\n",
    "# fig.write_image(\"framework-benchmarking-4k.png\", width=1024)# scale=2)\n",
    "fig.write_image(\"framework-benchmarking-4k-header.png\", width=1024, height=570)\n",
    "fig.show()"
   ]
  },
  {
   "cell_type": "code",
   "execution_count": null,
   "metadata": {},
   "outputs": [],
   "source": [
    "df512 = df[df['neurons'] == 512]\n",
    "\n",
    "fig = get_figure(df512, rounding=3, title=\"Latency for 512 neurons, lower is better\")\n",
    "\n",
    "fig.write_json(\"framework-benchmarking-512.json\")\n",
    "# fig.write_image(\"framework-benchmarking-512.png\", width=1024)# scale=2)\n",
    "fig.show()"
   ]
  },
  {
   "cell_type": "code",
   "execution_count": null,
   "metadata": {},
   "outputs": [],
   "source": []
  }
 ],
 "metadata": {
  "kernelspec": {
   "display_name": "Python 3 (ipykernel)",
   "language": "python",
   "name": "python3"
  },
  "language_info": {
   "codemirror_mode": {
    "name": "ipython",
    "version": 3
   },
   "file_extension": ".py",
   "mimetype": "text/x-python",
   "name": "python",
   "nbconvert_exporter": "python",
   "pygments_lexer": "ipython3",
   "version": "3.9.17"
  }
 },
 "nbformat": 4,
 "nbformat_minor": 2
}
