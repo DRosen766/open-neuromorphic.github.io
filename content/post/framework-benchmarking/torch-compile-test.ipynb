{
 "cells": [
  {
   "cell_type": "code",
   "execution_count": null,
   "metadata": {},
   "outputs": [],
   "source": [
    "import snntorch\n",
    "\n",
    "device = \"cpu\"\n",
    "class Model(nn.Module):\n",
    "    def __init__(self, beta: float = 0.95):\n",
    "        super().__init__()\n",
    "        self.fc = nn.Linear(n_neurons, n_neurons)\n",
    "        self.lif = snntorch.Leaky(beta=beta)\n",
    "        self.mem = self.lif.init_leaky()\n",
    "\n",
    "    def forward(self, x):\n",
    "        cur = self.fc(x)\n",
    "        spk, self.mem = self.lif(cur, self.mem)\n",
    "        return spk\n",
    "\n",
    "\n",
    "torch.autograd.set_detect_anomaly(False)\n",
    "\n",
    "model = Model()\n",
    "model = torch.compile(model)#, mode=\"max-autotune\")\n",
    "model = model.to(device)\n",
    "input_static = torch.randn(n_steps, batch_size, n_neurons).to(device) # n_steps\n",
    "\n",
    "output = []\n",
    "for step in range(n_steps):\n",
    "    output.append(model(input_static[step]))\n",
    "    \n",
    "torch.stack(output).sum().backward()\n",
    "\n",
    "        # for inp in x:\n",
    "        #                 output.append(spk)\n",
    "        # return torch.stack(output)\n"
   ]
  },
  {
   "cell_type": "code",
   "execution_count": null,
   "metadata": {},
   "outputs": [],
   "source": [
    "from norse.torch.module.lif import LIF\n",
    "from norse.torch import SequentialState\n",
    "import norse\n",
    "\n",
    "model = SequentialState(\n",
    "    nn.Linear(n_neurons, n_neurons),\n",
    "    LIF(),\n",
    ")\n",
    "model = model.to(device)\n",
    "model = torch.compile(model)#, mode=\"max-autotune\")\n",
    "input_static = torch.randn(n_steps, batch_size, n_neurons).to(device)\n",
    "\n",
    "model(input_static)"
   ]
  },
  {
   "cell_type": "code",
   "execution_count": null,
   "metadata": {},
   "outputs": [],
   "source": [
    "import torch \n",
    "\n",
    "import sinabs.layers as sl\n",
    "\n",
    "\n",
    "model = nn.Sequential(\n",
    "    nn.Linear(10, 10),\n",
    "    sl.LIF(tau_mem=torch.tensor(10.)),\n",
    ")"
   ]
  }
 ],
 "metadata": {
  "language_info": {
   "name": "python"
  }
 },
 "nbformat": 4,
 "nbformat_minor": 2
}
