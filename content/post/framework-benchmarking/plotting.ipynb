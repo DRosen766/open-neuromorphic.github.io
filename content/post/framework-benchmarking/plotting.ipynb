{
 "cells": [
  {
   "cell_type": "code",
   "execution_count": null,
   "metadata": {},
   "outputs": [],
   "source": [
    "import pandas as pd\n",
    "\n",
    "df = pd.read_csv('data.csv')\n",
    "n_steps = 500\n",
    "batch_size = 10"
   ]
  },
  {
   "cell_type": "code",
   "execution_count": null,
   "metadata": {},
   "outputs": [],
   "source": [
    "\n"
   ]
  },
  {
   "cell_type": "code",
   "execution_count": null,
   "metadata": {},
   "outputs": [],
   "source": [
    "df16k = df[df['neurons'] == 16384]\n",
    "\n",
    "totals16k = df16k[\"time [s]\"][df16k[\"pass\"] == \"forward\"].to_numpy() + df16k[\"time [s]\"][df16k[\"pass\"] == \"backward\"].to_numpy()\n",
    "totals16k = totals16k.round(2)\n",
    "frameworks = df16k[\"framework\"].unique()"
   ]
  },
  {
   "cell_type": "code",
   "execution_count": null,
   "metadata": {},
   "outputs": [],
   "source": [
    "import plotly.express as px\n",
    "import plotly.graph_objects as go\n",
    "\n",
    "fig = px.bar(\n",
    "    df[df['neurons'] == 16384],\n",
    "    x=\"framework\",\n",
    "    y=\"time [s]\",\n",
    "    color=\"pass\",\n",
    "    log_y=True,\n",
    "    text_auto='.2f',\n",
    ").add_trace(go.Scatter(\n",
    "    x=frameworks, y=totals16k*1.05, \n",
    "    mode='text',\n",
    "    text=totals16k,\n",
    "    textposition='top center',\n",
    "    showlegend=False\n",
    "))\n",
    "fig.data[0]['textposition'] = 'inside'\n",
    "fig.data[1]['textposition'] = 'inside'\n",
    "\n",
    "fig.update_layout(\n",
    "    title=f\"16k neurons, 1 Linear + 1 LIF layer, {n_steps} time steps, batch size {batch_size}\",\n",
    "    xaxis={'categoryorder':'total ascending'},\n",
    ")\n",
    "# increase size of facet titles\n",
    "fig.update_annotations(font_size=14)\n",
    "\n",
    "fig.write_image(\"framework-benchmarking-16k.png\", width=1024)\n",
    "fig.write_image(\"framework-benchmarking-16k-header.png\", width=1600)\n",
    "fig.show()"
   ]
  },
  {
   "cell_type": "code",
   "execution_count": null,
   "metadata": {},
   "outputs": [],
   "source": [
    "from PIL import Image\n",
    "from PIL import ImageFont\n",
    "from PIL import ImageDraw \n",
    "\n",
    "# print OOM on the image\n",
    "font = ImageFont.truetype(\"/usr/share/fonts/truetype/freefont/FreeMono.ttf\", size=35, encoding=\"unic\")\n",
    "img = Image.open(\"framework-benchmarking-16k.png\")\n",
    "draw = ImageDraw.Draw(img).text((105, 340), \"OOM\", (0,0,0),font=font)\n",
    "img.save('framework-benchmarking-16k.png')\n",
    "\n",
    "img = Image.open(\"framework-benchmarking-16k-header.png\")\n",
    "draw = ImageDraw.Draw(img).text((130, 370), \"OOM\", (0,0,0),font=font)\n",
    "img.save('framework-benchmarking-16k-header.png')"
   ]
  },
  {
   "cell_type": "code",
   "execution_count": null,
   "metadata": {},
   "outputs": [],
   "source": [
    "df4k = df[df['neurons'] == 4096]\n",
    "\n",
    "totals4k = df4k[\"time [s]\"][df4k[\"pass\"] == \"forward\"].to_numpy() + df4k[\"time [s]\"][df4k[\"pass\"] == \"backward\"].to_numpy()\n",
    "totals4k = totals4k.round(2)\n",
    "\n",
    "fig = px.bar(\n",
    "    df4k,\n",
    "    x=\"framework\",\n",
    "    y=\"time [s]\",\n",
    "    color=\"pass\",\n",
    "    log_y=True,\n",
    "    text_auto='.2f',\n",
    ").add_trace(go.Scatter(\n",
    "    x=frameworks, y=totals4k*1.05, \n",
    "    mode='text',\n",
    "    text=totals4k,\n",
    "    textposition='top center',\n",
    "    showlegend=False\n",
    "))\n",
    "fig.data[0]['textposition'] = 'inside'\n",
    "fig.data[1]['textposition'] = 'inside'\n",
    "fig.update_layout(\n",
    "    title=f\"4k neurons, 1 Linear + 1 LIF layer, {n_steps} time steps, batch size {batch_size}\",\n",
    "    xaxis={'categoryorder':'total ascending'},\n",
    ")\n",
    "# increase size of facet titles\n",
    "fig.update_annotations(font_size=14)\n",
    "fig.write_image(\"framework-benchmarking-4k.png\", width=1024)# scale=2)\n",
    "fig.show()"
   ]
  },
  {
   "cell_type": "code",
   "execution_count": null,
   "metadata": {},
   "outputs": [],
   "source": [
    "df512 = df[df['neurons'] == 512]\n",
    "df512[\"time [s]\"] *= 1000\n",
    "\n",
    "totals512 = df512[\"time [s]\"][df512[\"pass\"] == \"forward\"].to_numpy() + df512[\"time [s]\"][df512[\"pass\"] == \"backward\"].to_numpy()\n",
    "totals512 = totals512.round(2)\n",
    "\n",
    "fig = px.bar(\n",
    "    df512,\n",
    "    x=\"framework\",\n",
    "    y=\"time [s]\",\n",
    "    color=\"pass\",\n",
    "    log_y=True,\n",
    "    text_auto=\".2f\",\n",
    ").add_trace(go.Scatter(\n",
    "    x=frameworks, y=totals512*1.05, \n",
    "    mode='text',\n",
    "    text=totals512,\n",
    "    textposition='top center',\n",
    "    showlegend=False\n",
    "))\n",
    "fig.data[0]['textposition'] = 'inside'\n",
    "fig.data[1]['textposition'] = 'inside'\n",
    "fig.update_layout(\n",
    "    title=f\"512 neurons, 1 Linear + 1 LIF layer, {n_steps} time steps, batch size {batch_size}\",\n",
    "    xaxis={'categoryorder':'total ascending'},\n",
    "    yaxis_title=\"Time [ms]\",\n",
    ")\n",
    "# increase size of facet titles\n",
    "fig.update_annotations(font_size=14)\n",
    "\n",
    "fig.write_image(\"framework-benchmarking-512.png\", width=1024)# scale=2)\n",
    "fig.show()"
   ]
  },
  {
   "cell_type": "code",
   "execution_count": null,
   "metadata": {},
   "outputs": [],
   "source": []
  }
 ],
 "metadata": {
  "kernelspec": {
   "display_name": "frameworks",
   "language": "python",
   "name": "python3"
  },
  "language_info": {
   "codemirror_mode": {
    "name": "ipython",
    "version": 3
   },
   "file_extension": ".py",
   "mimetype": "text/x-python",
   "name": "python",
   "nbconvert_exporter": "python",
   "pygments_lexer": "ipython3",
   "version": "3.11.4"
  }
 },
 "nbformat": 4,
 "nbformat_minor": 2
}
