{
 "cells": [
  {
   "cell_type": "code",
   "execution_count": null,
   "metadata": {},
   "outputs": [],
   "source": [
    "import pandas as pd\n",
    "\n",
    "df = pd.read_csv('data.csv')\n",
    "n_steps = 500\n",
    "batch_size = 10"
   ]
  },
  {
   "cell_type": "code",
   "execution_count": null,
   "metadata": {},
   "outputs": [],
   "source": [
    "import plotly.express as px\n",
    "\n",
    "\n",
    "fig = px.bar(\n",
    "    df[df['neurons'] == 16384],\n",
    "    x=\"framework\",\n",
    "    y=\"time [s]\",\n",
    "    color=\"pass\",\n",
    "    log_y=True,\n",
    "    text_auto=True\n",
    ")\n",
    "\n",
    "fig.update_layout(\n",
    "    title=f\"16k neurons, 1 Linear + 1 LIF layer, {n_steps} time steps, batch size {batch_size}\",\n",
    "    xaxis={'categoryorder':'total ascending'},\n",
    ")\n",
    "# increase size of facet titles\n",
    "fig.update_annotations(font_size=14)\n",
    "\n",
    "fig.write_image(\"framework-benchmarking-16k.png\", width=1024)\n",
    "fig.write_image(\"framework-benchmarking-16k-header.png\", width=1600)\n",
    "fig.show()"
   ]
  },
  {
   "cell_type": "code",
   "execution_count": null,
   "metadata": {},
   "outputs": [],
   "source": [
    "from PIL import Image\n",
    "from PIL import ImageFont\n",
    "from PIL import ImageDraw \n",
    "\n",
    "# print OOM on the image\n",
    "font = ImageFont.truetype(\"/usr/share/fonts/truetype/freefont/FreeMono.ttf\", size=35, encoding=\"unic\")\n",
    "img = Image.open(\"framework-benchmarking-16k.png\")\n",
    "draw = ImageDraw.Draw(img).text((105, 340), \"OOM\", (0,0,0),font=font)\n",
    "img.save('framework-benchmarking-16k.png')\n",
    "\n",
    "img = Image.open(\"framework-benchmarking-16k-header.png\")\n",
    "draw = ImageDraw.Draw(img).text((130, 370), \"OOM\", (0,0,0),font=font)\n",
    "img.save('framework-benchmarking-16k-header.png')"
   ]
  },
  {
   "cell_type": "code",
   "execution_count": null,
   "metadata": {},
   "outputs": [],
   "source": [
    "fig = px.bar(\n",
    "    df[df['neurons'] == 4096],\n",
    "    x=\"framework\",\n",
    "    y=\"time [s]\",\n",
    "    color=\"pass\",\n",
    "    log_y=True,\n",
    "    text_auto=True,\n",
    ")\n",
    "fig.update_layout(\n",
    "    title=f\"4k neurons, 1 Linear + 1 LIF layer, {n_steps} time steps, batch size {batch_size}\",\n",
    "    xaxis={'categoryorder':'total ascending'},\n",
    ")\n",
    "# increase size of facet titles\n",
    "fig.update_annotations(font_size=14)\n",
    "fig.write_image(\"framework-benchmarking-4k.png\", width=1024)# scale=2)\n",
    "fig.show()"
   ]
  },
  {
   "cell_type": "code",
   "execution_count": null,
   "metadata": {},
   "outputs": [],
   "source": [
    "fig = px.bar(\n",
    "    df[df['neurons'] == 512],\n",
    "    x=\"framework\",\n",
    "    y=\"time [s]\",\n",
    "    color=\"pass\",\n",
    "    log_y=True,\n",
    "    text_auto=True,\n",
    ")\n",
    "\n",
    "fig.update_layout(\n",
    "    title=f\"512 neurons, 1 Linear + 1 LIF layer, {n_steps} time steps, batch size {batch_size}\",\n",
    "    xaxis={'categoryorder':'total ascending'},\n",
    ")\n",
    "# increase size of facet titles\n",
    "fig.update_annotations(font_size=14)\n",
    "\n",
    "fig.write_image(\"framework-benchmarking-512.png\", width=1024)# scale=2)\n",
    "fig.show()"
   ]
  },
  {
   "cell_type": "code",
   "execution_count": null,
   "metadata": {},
   "outputs": [],
   "source": []
  }
 ],
 "metadata": {
  "kernelspec": {
   "display_name": "frameworks",
   "language": "python",
   "name": "python3"
  },
  "language_info": {
   "codemirror_mode": {
    "name": "ipython",
    "version": 3
   },
   "file_extension": ".py",
   "mimetype": "text/x-python",
   "name": "python",
   "nbconvert_exporter": "python",
   "pygments_lexer": "ipython3",
   "version": "3.11.4"
  }
 },
 "nbformat": 4,
 "nbformat_minor": 2
}
