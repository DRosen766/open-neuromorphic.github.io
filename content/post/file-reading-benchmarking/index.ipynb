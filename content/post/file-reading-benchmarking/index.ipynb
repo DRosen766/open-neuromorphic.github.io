{
 "cells": [
  {
   "cell_type": "code",
   "execution_count": null,
   "metadata": {
    "tags": []
   },
   "outputs": [],
   "source": [
    "%pip install expelliarmus\n",
    "%pip install aedat\n",
    "%pip install loris\n",
    "%pip install brotli\n",
    "%pip install h5py\n",
    "%pip install numpy\n",
    "\n",
    "from expelliarmus import Wizard\n",
    "import aedat\n",
    "import pathlib\n",
    "import h5py\n",
    "import numpy as np\n",
    "import timeit\n",
    "import requests\n",
    "import pickle\n",
    "import os\n",
    "import loris\n",
    "import brotli"
   ]
  },
  {
   "cell_type": "code",
   "execution_count": null,
   "metadata": {
    "tags": []
   },
   "outputs": [],
   "source": [
    "# fname = \"driving_sample\"\n",
    "fname = \"construction\" # use this one if you want to include aedat benchmarks\n",
    "\n",
    "# key is the name of the encoding, value is the file name ending\n",
    "extension_map = {\n",
    "    'aedat': '.aedat4',\n",
    "    'dat': '.dat',\n",
    "    'evt2': '_evt2.raw',\n",
    "    'evt3': '_evt3.raw',\n",
    "    'hdf5': '.hdf5',\n",
    "    'hdf5_lzf': '_lzf.hdf5',\n",
    "    'hdf5_gzip': '_gzip.hdf5',\n",
    "    'numpy': '.npy',\n",
    "    'eventstream': '.es',\n",
    "    'brotli': '.bin.br'\n",
    "}\n",
    "get_fpath = lambda encoding: f\"data/file-benchmark/{fname}{extension_map[encoding]}\""
   ]
  },
  {
   "cell_type": "code",
   "execution_count": null,
   "metadata": {
    "tags": []
   },
   "outputs": [],
   "source": [
    "if fname == \"driving_sample\":\n",
    "    if not os.path.exists(get_fpath('evt3')):\n",
    "        print(\"Downloading EVT3 file... \", end=\"\")\n",
    "        if not pathlib.Path(get_fpath('evt3')).is_file():\n",
    "            r = requests.get(\"https://dataset.prophesee.ai/index.php/s/nVcLLdWAnNzrmII/download\", allow_redirects=True)\n",
    "            open(get_fpath('evt3'), 'wb').write(r.content)\n",
    "        print(\"done!\")\n",
    "\n",
    "    wizard = Wizard(encoding=\"evt3\")\n",
    "    data = wizard.read(get_fpath(\"evt3\"))\n",
    "\n",
    "\n",
    "if fname == \"construction\":\n",
    "    if not os.path.exists(get_fpath('aedat')):\n",
    "        print(\"Downloading aedat4 file... \", end=\"\")\n",
    "        if not pathlib.Path(get_fpath('aedat')).is_file():\n",
    "            r = requests.get(\"https://cloudstor.aarnet.edu.au/plus/s/ORQ2oOz9NfwiHLZ/download?path=%2F&files=construction.aedat4\", allow_redirects=True)\n",
    "            open(get_fpath('aedat'), 'wb').write(r.content)\n",
    "    if not os.path.exists(get_fpath('eventstream')):\n",
    "        print(\"Downloading eventstream file... \", end=\"\")\n",
    "        if not pathlib.Path(get_fpath('eventstream')).is_file():\n",
    "            r = requests.get(\"https://cloudstor.aarnet.edu.au/plus/s/ORQ2oOz9NfwiHLZ/download?path=%2F&files=construction.es\", allow_redirects=True)\n",
    "            open(get_fpath('eventstream'), 'wb').write(r.content)\n",
    "        print(\"done!\")\n",
    "\n",
    "    decoder = aedat.Decoder(get_fpath('aedat'))\n",
    "    events = np.concatenate([packet[\"events\"] for packet in decoder if \"events\" in packet])\n",
    "    data = events.astype(np.dtype([('t', '<i8'), ('x', '<i2'), ('y', '<i2'), ('p', 'u1')], align=True))"
   ]
  },
  {
   "cell_type": "code",
   "execution_count": null,
   "metadata": {
    "tags": []
   },
   "outputs": [],
   "source": [
    "## Generate all comparison files\n",
    "\n",
    "# evt2 and dat\n",
    "raw_encodings = [\"dat\", \"evt2\", \"evt3\"]\n",
    "for encoding in raw_encodings:\n",
    "    if not os.path.exists(get_fpath(encoding)):\n",
    "        print(f\"Generating file for {encoding} encoding.\")\n",
    "        wizard = Wizard(encoding=encoding)\n",
    "        wizard.save(fpath=get_fpath(encoding), arr=data)\n",
    "\n",
    "# variants of hdf5\n",
    "hdf5_encodings = [\"hdf5\", \"hdf5_lzf\", \"hdf5_gzip\"]\n",
    "for encoding in hdf5_encodings:\n",
    "    fpath = get_fpath(encoding)\n",
    "    if not os.path.exists(fpath):\n",
    "        print(f\"Generating file for {encoding} encoding.\")\n",
    "        fp = h5py.File(fpath, \"w\")\n",
    "        fpath = pathlib.Path(get_fpath(encoding))\n",
    "        if encoding==\"hdf5\":\n",
    "            fp.create_dataset(name=\"events\", shape=data.shape, dtype=data.dtype, data=data)\n",
    "        elif encoding==\"hdf5_lzf\":\n",
    "            fp.create_dataset(name=\"events\", shape=data.shape, dtype=data.dtype, data=data, compression=\"lzf\")\n",
    "        elif encoding==\"hdf5_gzip\":\n",
    "            fp.create_dataset(name=\"events\", shape=data.shape, dtype=data.dtype, data=data, compression=\"gzip\")\n",
    "        fp.close()\n",
    "\n",
    "# numpy\n",
    "fpath = get_fpath('numpy')\n",
    "if not os.path.exists(fpath):\n",
    "    print(f\"Generating file for numpy encoding.\")\n",
    "    np.save(fpath, data, allow_pickle=True)\n",
    "\n",
    "# brotli\n",
    "if not os.path.exists(get_fpath('brotli')):\n",
    "    print(f\"Generating file for brotli encoding.\")\n",
    "    with open(get_fpath('brotli'), 'wb') as out_file:\n",
    "        with open(get_fpath('dat'), 'rb') as in_file:\n",
    "            for i in range(3):\n",
    "                l = in_file.readline()\n",
    "            out_file.write(brotli.compress(in_file.read(), quality=5))"
   ]
  },
  {
   "cell_type": "code",
   "execution_count": null,
   "metadata": {
    "tags": []
   },
   "outputs": [],
   "source": [
    "## Run benchmarks\n",
    "\n",
    "REPEAT = 1\n",
    "get_fsize_MB = lambda fpath: round(fpath.stat().st_size/(1024*1024))\n",
    "\n",
    "# evt2, evt3, dat\n",
    "raw_times = []\n",
    "raw_sizes = []\n",
    "for encoding in raw_encodings:\n",
    "    fpath = get_fpath(encoding)\n",
    "    wizard = Wizard(encoding)\n",
    "    wizard.set_file(fpath)\n",
    "    raw_times.append(sum(timeit.repeat(lambda: wizard.read(fpath), number=1, repeat=REPEAT))/REPEAT)\n",
    "    raw_sizes.append(get_fsize_MB(pathlib.Path(fpath)))\n",
    "\n",
    "# hdf5 variants\n",
    "hdf5_times = []\n",
    "hdf5_sizes = []\n",
    "for encoding in hdf5_encodings:\n",
    "    fpath = get_fpath(encoding)\n",
    "    fp = h5py.File(fpath)\n",
    "    hdf5_times.append(sum(timeit.repeat(lambda: fp[\"events\"][:], number=1, repeat=REPEAT))/REPEAT)\n",
    "    fp.close()\n",
    "    hdf5_sizes.append(get_fsize_MB(pathlib.Path(fpath)))\n",
    "\n",
    "# numpy\n",
    "fpath = get_fpath('numpy')\n",
    "numpy_time = sum(timeit.repeat(lambda: np.load(fpath), number=1, repeat=REPEAT))/REPEAT\n",
    "numpy_size = get_fsize_MB(pathlib.Path(fpath))\n",
    "\n",
    "# aedat4\n",
    "def load_aedat(fpath):\n",
    "    decoder = aedat.Decoder(fpath)\n",
    "    events = [packet[\"events\"] for packet in decoder if \"events\" in packet]\n",
    "\n",
    "fpath = get_fpath('aedat')\n",
    "aedat_time = sum(timeit.repeat(lambda: load_aedat(fpath), number=1, repeat=REPEAT))/REPEAT\n",
    "aedat_size = get_fsize_MB(pathlib.Path(fpath))\n",
    "\n",
    "# eventstream\n",
    "fpath = get_fpath('eventstream')\n",
    "es_time = sum(timeit.repeat(lambda: loris.read_file(fpath), number=1, repeat=REPEAT))/REPEAT\n",
    "es_size = get_fsize_MB(pathlib.Path(fpath))\n",
    "\n",
    "# brotli\n",
    "fpath = get_fpath('brotli')\n",
    "dtype = np.dtype([('t', '<i8'), ('x', '<i2'), ('y', '<i2'), ('p', 'u1')])\n",
    "                 \n",
    "def brotli_read(): \n",
    "    # Reading to a numpy buffer the data.\n",
    "    with open(fpath, \"rb\") as fp:\n",
    "        np_buff = np.frombuffer(brotli.decompress(fp.read()), dtype=np.uint64, align=True)\n",
    "\n",
    "    # Creating the structured NumPy array.\n",
    "    arr = np.empty(len(np_buff), dtype=dtype)\n",
    "\n",
    "    # Decoding the buffer.\n",
    "    arr['t'] = np_buff & 0xFFFFFFFF # 32 bits\n",
    "    arr['x'] = (np_buff >> (64-32)) & 0x3FFF # 14 bits\n",
    "    arr['y'] = (np_buff >> (64-(32+14))) & 0x3FFF # 14 bits\n",
    "    arr['p'] = (np_buff >> (64-(32+28)))\n",
    "    return arr \n",
    "\n",
    "brotli_time = sum(timeit.repeat(brotli_read, number=1, repeat=REPEAT))/REPEAT\n",
    "brotli_size = get_fsize_MB(pathlib.Path(fpath))"
   ]
  },
  {
   "cell_type": "code",
   "execution_count": null,
   "metadata": {
    "tags": []
   },
   "outputs": [],
   "source": [
    "## Aggregate results\n",
    "\n",
    "import pandas as pd\n",
    "\n",
    "df = pd.DataFrame({\n",
    "    'Encoding': raw_encodings + hdf5_encodings + [\"numpy\", \"aedat4\", \"eventstream\", \"dat/brotli\"],\n",
    "    'Framework': [\"expelliarmus\"] * len(raw_encodings) + [\"h5py\"] * len(hdf5_encodings) + [\"numpy\", \"aedat\", \"loris\", \"expelliarmus/brotli\"],\n",
    "    'Read time [s]': raw_times + hdf5_times + [numpy_time, aedat_time, es_time, brotli_time] ,\n",
    "    'File size [MB]': raw_sizes + hdf5_sizes + [numpy_size, aedat_size, es_size, brotli_size],\n",
    "})"
   ]
  },
  {
   "cell_type": "code",
   "execution_count": null,
   "metadata": {
    "tags": []
   },
   "outputs": [],
   "source": [
    "## Plot results\n",
    "\n",
    "import plotly.express as px\n",
    "from IPython.display import Image\n",
    "\n",
    "title = f\"Reading the same {int(len(data)/1e6)} million events from different files.\"\n",
    "fig = px.scatter(df, x='Read time [s]', y='File size [MB]', color='Framework', symbol='Encoding', title=title, template=\"plotly_dark\",)\n",
    "fig.update_traces(marker_size=13)\n",
    "fig.write_image('file_read_benchmark.png')"
   ]
  }
 ],
 "metadata": {
  "kernelspec": {
   "display_name": "Python 3 (ipykernel)",
   "language": "python",
   "name": "python3"
  },
  "language_info": {
   "codemirror_mode": {
    "name": "ipython",
    "version": 3
   },
   "file_extension": ".py",
   "mimetype": "text/x-python",
   "name": "python",
   "nbconvert_exporter": "python",
   "pygments_lexer": "ipython3",
   "version": "3.9.15"
  },
  "vscode": {
   "interpreter": {
    "hash": "3c00e5e7c7a569083cb991dfa106f557879cc0d1d84bf5b9d92fbb6bf680d358"
   }
  }
 },
 "nbformat": 4,
 "nbformat_minor": 2
}
